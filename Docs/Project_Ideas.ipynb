{
 "cells": [
  {
   "cell_type": "markdown",
   "id": "30c03d77-aaa8-437b-aa8f-923645a0bf80",
   "metadata": {},
   "source": [
    "<figure>\n",
    "<img src=\"http://www.dre.unal.edu.co/visitantes/assets/images/logoVerde.png\"  width=\"300\" height=\"300\" align=\"left\"/> \n",
    "</figure>"
   ]
  },
  {
   "cell_type": "markdown",
   "id": "e2594bd9-1645-47f5-8106-23f2da07a3d3",
   "metadata": {},
   "source": [
    "# <span style=\"color:red\"><center>Propuestas de proyectos experimentales</center></span>\n",
    "\n",
    "<center>\n",
    "  <div style=\"text-align:center\">\n",
    "      <a href=https://github.com/juarodriguezfr \" target=\"_blank\">Judol Alejandro Rodríguez Franco</a><br/>\n",
    "    <code>(juarodriguezfr@unal.edu.co)</code><br/><br/>\n",
    "    <em>Universidad Nacional De Colombia</em><br/>\n",
    "    Observatorio Astronómico Nacional<br/>\n",
    "    Facultad de Ciencias<br/>\n",
    "    Departamento de Física\n",
    "    <br/>\n",
    "</center>"
   ]
  },
  {
   "cell_type": "markdown",
   "id": "c4a0ef70-b4d6-4f54-aa75-78bf06709cfd",
   "metadata": {},
   "source": [
    "---"
   ]
  },
  {
   "cell_type": "markdown",
   "id": "95db33b0-2261-4d69-b3f9-091f737aceac",
   "metadata": {},
   "source": [
    "### Proyecto 1: Luces de Calle como candelas Estándar para Comprender Mediciones de Distancia Astronómica"
   ]
  },
  {
   "cell_type": "markdown",
   "id": "2a0bc532-07d1-4e84-8751-c8a4e5ce963c",
   "metadata": {},
   "source": [
    "**Descripción:**\n",
    "\n",
    "Este proyecto de laboratorio tiene como objetivo brindar a los estudiantes una experiencia práctica en la comprensión de las mediciones de distancias astronómicas mediante el uso de luces de calle como velas estándar. Siguiendo el enfoque de un artículo de Markus Po ̈ssel, los estudiantes capturarán imágenes de luces de calle a diferentes distancias utilizando una cámara digital. Luego, analizarán las intensidades de estas luces y compararán sus observaciones con la teoría, explorando así los conceptos de intensidad luminosa inversamente proporcional al cuadrado de la distancia. A través de este experimento, los estudiantes obtendrán una comprensión tangible de cómo los astrónomos utilizan velas estándar para medir distancias cósmicas y explorarán las limitaciones y fuentes de error inherentes a este enfoque. El proyecto fomenta la aplicación práctica de conceptos astronómicos, la adquisición de habilidades de análisis de datos y la promoción de una comprensión más profunda de los métodos científicos utilizados en la medición de distancias en astronomía.\n",
    "\n",
    "**Referencia:** \n",
    "* [M. Pössel (2017). Street lights as Standar Candles: A Student activity for understanding astronomical distance measurements. *ArXiv: Physics Education.*](https://arxiv.org/abs/1702.02391)"
   ]
  },
  {
   "cell_type": "markdown",
   "id": "dfc20074-6afa-45e8-b983-19dece2df77f",
   "metadata": {
    "tags": []
   },
   "source": [
    "### Proyecto 2: Determinación Cuantitativa de Patrones de Chladni Utilizando el Método de Palanca Óptica"
   ]
  },
  {
   "cell_type": "markdown",
   "id": "547eb1ef-7f7d-494c-8ed0-6d78fe7ac738",
   "metadata": {},
   "source": [
    "**Descripción:**\n",
    "\n",
    "Este proyecto se basa en un enfoque simple utilizando el método de palanca óptica para determinar de manera cuantitativa los patrones de Chladni de ondas estacionarias bidimensionales en una placa elástica. Se utiliza únicamente un lápiz láser común y una pantalla de luz hecha de vidrio esmerilado para las mediciones, lo que permite realizar el experimento rápidamente durante demostraciones en clase en cursos de física universitaria.\n",
    "\n",
    "Se someten a prueba tres placas circulares de acrílico, cada una con un grosor de 1 mm, bajo diferentes excitaciones armónicas en su centro. El láser se proyecta perpendicularmente a la placa vibrante y se refleja en la pantalla de luz a distancia. El ángulo de inclinación de la forma de modo en el punto del láser se determina con la longitud del punto de luz en la pantalla. Luego, la forma de modo observada se obtiene integrando la distribución de inclinación.\n",
    "\n",
    "Para verificar la precisión del método, se llevan a cabo modelos teóricos y simulaciones \n",
    "\n",
    "numéricas, que comparan muy bien con los resultados obtenidos. Este enfoque también puede aplicarse para determinar las formas de modo de platos de Chladni en toda su superficie de manera bastante sencilla.\n",
    "\n",
    "Este proyecto experimental ofrece una oportunidad valiosa para que los estudiantes experimenten la física práctica y el método de palanca óptica mientras investigan patrones de Chladni en placas elásticas.\n",
    "\n",
    "**Referencia:**\n",
    "\n",
    "* [Luo, Y., Feng, R., Li, X., & Liu, D. (2019). A simple approach to determine the mode shapes of Chladni plates based on the optical lever method. *European Journal of Physics, 40(6), 065001*. doi:10.1088/1361-6404/ab2e2b](https://iopscience.iop.org/article/10.1088/1361-6404/ab2e2b#:~:text=The%20beam%20from%20the%20laser,spot%20on%20the%20light%20screen.)"
   ]
  },
  {
   "cell_type": "markdown",
   "id": "013b1d88-5cb2-4469-940d-39b9c3331200",
   "metadata": {},
   "source": [
    "### Proyecto 3: Construcción de relojes analematicos"
   ]
  },
  {
   "cell_type": "markdown",
   "id": "b8f4951c-5a38-4fc1-8b4a-36ce5c858645",
   "metadata": {},
   "source": [
    "**Descripción:**\n",
    "\n",
    "Este artículo ofrece una práctica guía sobre la construcción de un reloj de sol particular, el reloj analemmático, que utiliza la posición del sol para medir el tiempo. Se resalta la relevancia histórica de la medición precisa del tiempo en la agricultura y la vida diaria. Se subraya cómo la relación entre astronomía y matemáticas ha evolucionado para permitir observaciones más precisas y métodos más eficientes.\n",
    "\n",
    "El artículo se centra en la construcción concreta del reloj analemmático, proporcionando una introducción a su teoría y un llamado a la adaptación en el hemisferio sur. Enfatiza la práctica como un medio para comprender la relación entre astronomía y tiempo, y ofrece a los lectores una oportunidad directa para explorar y experimentar con la creación de un reloj de sol funcional que refleje la trayectoria del sol en el cielo.\n",
    "\n",
    "**Materiales:**\n",
    "\n",
    "Los siguientes artículos se encuentran en ferreterías tales como [Ferreco](https://ferreco.com/) [Homecenter](https://www.homecenter.com.co/homecenter-co/) o [Easy](https://www.easy.com.co/)\n",
    "\n",
    "* Palos de escoba\n",
    "* Cinta métrica\n",
    "* Martillo\n",
    "* Segueta\n",
    "\n",
    "<div style=\"text-align:center\">\n",
    "    <figure style=\"display:inline-block; margin:10px\">\n",
    "        <img src=\"https://panafargo.com/wp-content/uploads/2022/01/palos-de-balso-Redondo-En-Todos-Los-Tamanos-Juntos-En-Piramide.jpg\" alt=\"Palos de escoba\" style=\"width:200px\"/>\n",
    "        <figcaption>Palos de escoba</figcaption>\n",
    "    </figure>\n",
    "    <figure style=\"display:inline-block; margin:10px\">\n",
    "        <img src=\"https://cdn.coordiutil.com/imagen-cinta_metrica_pro_8m26_30088_stanley-2108636-0-0-0-100.jpg\" alt=\"Cinta métrica\" style=\"width:200px\"/>\n",
    "        <figcaption>Cinta métrica</figcaption>\n",
    "    </figure>\n",
    "</div>\n",
    "\n",
    "<div style=\"text-align:center\">\n",
    "    <figure style=\"display:inline-block; margin:10px\">\n",
    "        <img src=\"https://i0.wp.com/pinturasyyesos.com/wp-content/uploads/2021/02/marco-segueta-pretul-12.jpg?resize=510%2C510&ssl=1\" alt=\"Segueta\" style=\"width:200px\"/>\n",
    "        <figcaption>Segueta</figcaption>\n",
    "    </figure>\n",
    "    <figure style=\"display:inline-block; margin:10px\">\n",
    "        <img src=\"https://www.mndelgolfo.com/blog/wp-content/uploads/2017/01/martillo-de-perforacion.jpg\" alt=\"Martillo\" style=\"width:200px\"/>\n",
    "        <figcaption>Martillo</figcaption>\n",
    "    </figure>\n",
    "</div>\n",
    "\n",
    "\n",
    "**Referencia:**\n",
    "* [C.J. Budd and C.J. Sangwin. Analemmatic sundials: How to build one and why they work. *Plus Maths magazine*](https://plus.maths.org/content/analemmatic-sundials-how-build-one-and-why-they-work)"
   ]
  },
  {
   "cell_type": "markdown",
   "id": "b9c56e4c-a818-4642-b2d5-e35294fdb7af",
   "metadata": {},
   "source": [
    "### Proyecto 4: Preparación de un Espectroscopio Simple con CD o DVD"
   ]
  },
  {
   "cell_type": "markdown",
   "id": "323c521d-b71f-4ab1-90e2-a8be5d72e0d7",
   "metadata": {},
   "source": [
    "**Descripción:**\n",
    "\n",
    "El artículo del \"Journal of Laboratory Chemical Education\" describe el montaje experimental para la preparación de un espectroscopio de transmisión simple utilizando un CD o DVD. El objetivo de este experimento es proporcionar a estudiantes de química introductoria (no especializados) una herramienta accesible para observar espectros. \n",
    "\n",
    "El montaje se basa en la fabricación de un espectroscopio utilizando un disco CD o DVD, un sobre para discos y herramientas y suministros simples. El proceso de fabricación es sencillo, toma poco tiempo y no requiere de equipos sofisticados. El espectroscopio creado por los estudiantes proporciona espectros de calidad satisfactoria para ser utilizados en una clase introductoria de química o espectroscopia.\n",
    "\n",
    "**Materiales:**\n",
    "\n",
    "Los materiales se pueden conseguir en papelerías como [*Comercial Papelera*](https://comercialpapelera.com.co/tienda/) o supermercados y almacenes de cadena como [*Éxito*](https://www.exito.com/)\n",
    "\n",
    "* DVD5 o CD\n",
    "* Tubo de cartón\n",
    "* Tijeras\n",
    "* Regla y transportador\n",
    "* Cartulina negra\n",
    "* Silicona\n",
    "\n",
    "<div style=\"text-align:center\">\n",
    "    <figure style=\"display:inline-block; margin:10px\">\n",
    "        <img src=\"https://cdimagen.com/wp-content/uploads/2015/03/DVD-5-9-10.jpg\" alt=\"DVD\" style=\"width:200px\"/>\n",
    "        <figcaption>CD o DVD virgen</figcaption>\n",
    "    </figure>\n",
    "    <figure style=\"display:inline-block; margin:10px\">\n",
    "        <img src=\"https://mexipack.com.mx/wp-content/uploads/2020/07/tubo1.jpg\" alt=\"Tubos de cartón\" style=\"width:200px\"/>\n",
    "        <figcaption>Tubos de cartón</figcaption>\n",
    "    </figure>\n",
    "    <figure style=\"display:inline-block; margin:10px\">\n",
    "        <img src=\"https://medios.papeleriamodelo.com/wp-content/uploads/2020/10/tijeras-punta-roma-faber-castell.jpg.webp\" alt=\"Tijeras\" style=\"width:200px\"/>\n",
    "        <figcaption>Tijeras</figcaption>\n",
    "    </figure>\n",
    "</div>\n",
    "\n",
    "<div style=\"text-align:center\">\n",
    "    <figure style=\"display:inline-block; margin:10px\">\n",
    "        <img src=\"https://www.imex.cl/19068-thickbox_default/set-geometria-sky-20-cm-4pc-2-escuadra-1-transportador-y-1-regla.jpg\" alt=\"Regla\" style=\"width:200px\"/>\n",
    "        <figcaption>Regla</figcaption>\n",
    "    </figure>\n",
    "    <figure style=\"display:inline-block; margin:10px\">\n",
    "        <img src=\"https://www.multiexpress.com.co/wp-content/uploads/2023/02/1309.jpg\" alt=\"Cartulina\" style=\"width:200px\"/>\n",
    "        <figcaption>Cartulina Negra</figcaption>\n",
    "    </figure>\n",
    "    <figure style=\"display:inline-block; margin:10px\">\n",
    "        <img src=\"https://www.grafitos.com.co/wp-content/uploads/2022/07/silicona-liquida-grafitos-500ml-900x900.jpg\" alt=\"Silicona\" style=\"width:200px\"/>\n",
    "        <figcaption>Silicona Fría</figcaption>\n",
    "    </figure>\n",
    "</div>\n",
    "\n",
    "\n",
    "**Referencias:**\n",
    "* [Dragojlovic, V. (2022). Preparation of a Simple CD or DVD Spectroscope. *Journal of Laboratory Chemical Education, 10(3), 54-58*. doi:10.5923/j.jlce.20221003.02](http://article.sapub.org/10.5923.j.jlce.20221003.02.html)\n",
    "* [Planetario de Bogotá (2020). Vive el planetario en tu casa - Espectros de luz. *YouTube*](https://www.youtube.com/watch?v=HQ2FKd1U1KE)\n"
   ]
  },
  {
   "cell_type": "markdown",
   "id": "5c7c37ed-2f42-4efb-923e-87718f4494bd",
   "metadata": {
    "tags": []
   },
   "source": [
    "### Proyecto 5: Explorando la Relación entre la Contaminación Lumínica y el potencial Astroturistico en Colombia"
   ]
  },
  {
   "cell_type": "markdown",
   "id": "d5c995a3-c03b-4c32-b7fe-35f20ef3f458",
   "metadata": {},
   "source": [
    "**Descripción:**\n",
    "\n",
    "Este estudio propone un análisis detallado de la contaminación lumínica en los centros urbanos más importantes de Colombia, utilizando imágenes satelitales recopiladas durante un período de diez años (2012-2022). El objetivo principal es comprender cómo ha evolucionado la expansión de la luz artificial en el espacio urbano y evaluar su impacto en el entorno natural y la calidad de vida de los habitantes.\n",
    "\n",
    "Se propone la valoración de zonas idóneas para el astroturismo. A través de la identificación de ciudades con niveles más bajos de contaminación lumínica, se podrán delinear áreas que ofrecen condiciones óptimas para la observación del cielo nocturno y la realización de actividades astronómicas. Esto no solo resalta la importancia de preservar el cielo oscuro, sino que también presenta una oportunidad de desarrollo turístico sostenible que beneficia tanto al medio ambiente como a la economía local. \n",
    "\n",
    "**Referencia:**\n",
    "* [K. J. Rueda Espinosa, A. F. Guerrero Guio, S. Vargas-Dominguez, M. Vinasco Téllez, C. Goez-Therán (2023). Iluminando la amenaza: análisis de una década de contaminación lumínica en los principales centros urbanos de Colombia mediante imágenes satelitales. *Revista de la Academia Colombiana de Ciencias Exactas, Físicas y Naturales*, *47(183)*, *242–258*.](https://doi.org/10.18257/raccefyn.1867)\n",
    "    "
   ]
  }
 ],
 "metadata": {
  "kernelspec": {
   "display_name": "Python 3 (ipykernel)",
   "language": "python",
   "name": "python3"
  },
  "language_info": {
   "codemirror_mode": {
    "name": "ipython",
    "version": 3
   },
   "file_extension": ".py",
   "mimetype": "text/x-python",
   "name": "python",
   "nbconvert_exporter": "python",
   "pygments_lexer": "ipython3",
   "version": "3.11.3"
  }
 },
 "nbformat": 4,
 "nbformat_minor": 5
}
