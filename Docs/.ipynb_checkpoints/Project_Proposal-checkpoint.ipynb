{
 "cells": [
  {
   "cell_type": "markdown",
   "id": "30c03d77-aaa8-437b-aa8f-923645a0bf80",
   "metadata": {},
   "source": [
    "<figure>\n",
    "<img src=\"http://www.dre.unal.edu.co/visitantes/assets/images/logoVerde.png\"  width=\"300\" height=\"300\" align=\"left\"/> \n",
    "</figure>"
   ]
  },
  {
   "cell_type": "markdown",
   "id": "e2594bd9-1645-47f5-8106-23f2da07a3d3",
   "metadata": {},
   "source": [
    "# <span style=\"color:red\"><center>Medición de distancias usando candelas estandar con datos satelitales y terrestres</center></span>\n",
    "\n",
    "<center>\n",
    "  <div style=\"text-align:center\">\n",
    "      <a href=https://github.com/juarodriguezfr \" target=\"_blank\">Judol Alejandro Rodríguez Franco</a><br/>\n",
    "    <code>(juarodriguezfr@unal.edu.co)</code><br/><br/>\n",
    "    <em>Universidad Nacional De Colombia</em><br/>\n",
    "    Observatorio Astronómico Nacional<br/>\n",
    "    Facultad de Ciencias<br/>\n",
    "    Departamento de Física\n",
    "    <br/>\n",
    "</center>"
   ]
  },
  {
   "cell_type": "markdown",
   "id": "73265895-b5b5-45f3-8f64-8c7509c1ad38",
   "metadata": {},
   "source": [
    "## <span style=\"color:green\"><center>Propuesta de Proyecto</center></span>"
   ]
  },
  {
   "cell_type": "markdown",
   "id": "d98b6d81-7b32-44fa-9067-0bb1a20f9158",
   "metadata": {},
   "source": [
    "---\n",
    "### <center> **Resumen** </center>\n",
    "\n",
    "<div style=\"text-align: justify;\">\n",
    "    Lipsum\n",
    "</div>\n",
    "\n",
    "---"
   ]
  },
  {
   "cell_type": "markdown",
   "id": "b3b42a49-f123-49a3-93b5-f45a6df83b9b",
   "metadata": {},
   "source": [
    "### <span style=\"color:#4361EE\">Objetivos</span>"
   ]
  },
  {
   "cell_type": "markdown",
   "id": "df2b6cfd-d857-44b5-b8d8-220a6cd1edd7",
   "metadata": {},
   "source": [
    "1. Comprobar experimentalmente el grado de efectividad y precisión de las candelas estándard como método de medición astronómico a través de un ejemplo en tierra en el cual existen otros métodos de medición para contrastar los resultados.\n",
    "\n",
    "2. Usar datos satelitales de luminosidad para contrastar los resultados obtenidos en tierra y obtener perfiles de contaminación lumínica local."
   ]
  },
  {
   "cell_type": "markdown",
   "id": "6b977f0e-2d8d-476c-8fdc-f5588c29abd5",
   "metadata": {},
   "source": [
    "### <span style=\"color:#4361EE\">Marco Teórico</span>"
   ]
  },
  {
   "cell_type": "markdown",
   "id": "9c9595f2-4e3a-4bce-a21f-9f5d7c8efe92",
   "metadata": {},
   "source": [
    "El método de las candelas estándar es una técnica fundamental en la astronomía que se utiliza para medir distancias astronómicas en el universo. Este método se basa en la relación entre la luminosidad absoluta y la luminosidad aparente de las estrellas. A través de esta técnica, los astrónomos pueden determinar las distancias a objetos celestes, como estrellas, cúmulos estelares y galaxias, incluso cuando estas están a distancias extremadamente grandes.\n",
    "\n",
    "La idea central del método de las candelas estándar es que si conocemos la luminosidad absoluta ($L$) de una estrella o un objeto celeste y podemos medir su luminosidad aparente ($m$) desde la Tierra, entonces podemos determinar la distancia ($d$) a la que se encuentra utilizando la siguiente ecuación:\n",
    "\n",
    "$$L=\\frac{4\\pi d^2}{f}\\tag{1}$$\n",
    "\n",
    "donde:\n",
    "\n",
    "* $L$ es la luminosidad absoluta del objeto celeste.\n",
    "* $d$ es la distancia desde la Tierra al objeto celeste que estamos estudiando.\n",
    "* $f$ es el flujo luminoso que llega a la Tierra desde el objeto celeste, que es proporcional a la luminosidad aparente $m$.\n",
    "\n",
    "La relación entre la luminosidad absoluta y la luminosidad aparente se expresa en términos de magnitudes aparentes, que es una medida logarítmica de la luminosidad aparente. La ecuación que relaciona estas magnitudes es la siguiente:\n",
    "\n",
    "$$m-M=5log_{10}(d)-5$$\n",
    "\n",
    "donde:\n",
    "\n",
    "* *m* es la magnitud aparente del objeto celeste.\n",
    "* *M* es la magnitud absoluta del objeto celeste.\n",
    "\n",
    "La magnitud absoluta es una catidad de referencia, definida como la magnitud aparente que tendría el objeto celeste si estuviera a una distancia de 10 parsecs (aproximadamente 32.6 años luz) de la Tierra. Por lo tanto, si conocemos la magnitud absoluta de un objeto celeste y podemos medir su magnitud aparente, podemos calcular su distancia utilizando la ecuación anterior.\n",
    "\n",
    "El método de las candelas estándar se basa en el uso de objetos celestes cuya luminosidad absoluta es conocida con precisión. Uno de los ejemplos más conocidos de candelas estándar son las estrellas variables Cefeidas; estas estrellas experimentan cambios regulares en su luminosidad con un período que está relacionado de manera directa con su luminosidad absoluta. Por lo tanto, midiendo el período de variación de una Cefeida y observando su magnitud aparente, los astrónomos pueden determinar su luminosidad absoluta y, en consecuencia, su distancia."
   ]
  },
  {
   "cell_type": "markdown",
   "id": "23ed1c3c-c813-4acb-bb5e-bc6821cc756d",
   "metadata": {},
   "source": [
    "### <span style=\"color:#4361EE\">Detalles Experimentales</span>"
   ]
  },
  {
   "cell_type": "markdown",
   "id": "93a2d2a6-3cfd-4961-a94a-6cf8835709a6",
   "metadata": {
    "tags": []
   },
   "source": [
    "#### Montaje experimental fundamental"
   ]
  },
  {
   "cell_type": "code",
   "execution_count": null,
   "id": "a4889030-e3e2-4d47-9c69-119f218e5bb7",
   "metadata": {},
   "outputs": [],
   "source": []
  },
  {
   "cell_type": "markdown",
   "id": "8e2cf2cf-6f55-41d6-b66b-d5f3b437e110",
   "metadata": {
    "tags": []
   },
   "source": [
    "#### Variables físicas del experimento"
   ]
  },
  {
   "cell_type": "code",
   "execution_count": null,
   "id": "94e1e92c-1682-484a-ab4e-7a582c8fe642",
   "metadata": {},
   "outputs": [],
   "source": []
  },
  {
   "cell_type": "markdown",
   "id": "f6cdfb45-b1a1-4578-bdbe-9668979a2fba",
   "metadata": {
    "tags": []
   },
   "source": [
    "#### Medicion de variables físicas"
   ]
  },
  {
   "cell_type": "code",
   "execution_count": null,
   "id": "51cda793-3fc3-4bbe-a678-c65fc2aa57b9",
   "metadata": {},
   "outputs": [],
   "source": []
  },
  {
   "cell_type": "markdown",
   "id": "c30a3695-74a0-433c-9ef6-b71e825044db",
   "metadata": {
    "tags": []
   },
   "source": [
    "#### Variación y control de variables"
   ]
  },
  {
   "cell_type": "code",
   "execution_count": null,
   "id": "e45b47f5-ba42-4262-8cc4-731687dc0fbb",
   "metadata": {},
   "outputs": [],
   "source": []
  },
  {
   "cell_type": "markdown",
   "id": "93636bc7-c91b-49dd-b520-3e47d2a1a5cf",
   "metadata": {
    "tags": []
   },
   "source": [
    "#### Materiales y equipos"
   ]
  },
  {
   "cell_type": "code",
   "execution_count": null,
   "id": "576c8bbd-c667-4da9-9c0e-16a1cfb1e900",
   "metadata": {},
   "outputs": [],
   "source": []
  },
  {
   "cell_type": "markdown",
   "id": "0a6435ff-3542-4f68-a846-5086d05b87ad",
   "metadata": {},
   "source": [
    "### <span style=\"color:#4361EE\">Preguntas a resolver</span>"
   ]
  },
  {
   "cell_type": "markdown",
   "id": "ed75375d-eb09-455d-8514-cb7145637499",
   "metadata": {},
   "source": []
  },
  {
   "cell_type": "markdown",
   "id": "dcc4ed23-d94a-4eb1-97d5-49896baab892",
   "metadata": {},
   "source": [
    "### <span style=\"color:#4361EE\">Referencias</span>"
   ]
  },
  {
   "cell_type": "markdown",
   "id": "ee8a4314-29a2-4bc4-91ce-3ccda0e697c1",
   "metadata": {},
   "source": [
    "* **Bibliografía**\n",
    "\n",
    "    1. [M. Pössel (2017). Street lights as Standar Candles: A Student activity for understanding astronomical distance measurements. *ArXiv: Physics Education.*](https://arxiv.org/abs/1702.02391)\n",
    "\n",
    "    2. [K. J. Rueda Espinosa, A. F. Guerrero Guio, S. Vargas-Dominguez, M. Vinasco Téllez, C. Goez-Therán (2023). Iluminando la amenaza: análisis de una década de contaminación lumínica en los principales centros urbanos de Colombia mediante imágenes satelitales. *Revista de la Academia Colombiana de Ciencias Exactas, Físicas y Naturales*, *47(183)*, *242–258*.](https://doi.org/10.18257/raccefyn.1867)\n",
    "    \n",
    "    3. Author4, D., Author5, E., & Author6, F. (Year). Title of the Second Paper. *Journal of Something Else*, **A**(B), 789-101. [Link](http://www.example.com/paper2)\n",
    "\n",
    "    4. Author7, G., Author8, H., & Author9, I. (Year). Title of the Third Paper. *Another Journal*, **C**(D), 111-222. [Link](http://www.example.com/paper3)\n",
    "\n"
   ]
  },
  {
   "cell_type": "code",
   "execution_count": null,
   "id": "37521f63-7df7-4ac9-83cf-4a31d7a6e5c0",
   "metadata": {},
   "outputs": [],
   "source": [
    "* Referencias "
   ]
  }
 ],
 "metadata": {
  "kernelspec": {
   "display_name": "Python 3 (ipykernel)",
   "language": "python",
   "name": "python3"
  },
  "language_info": {
   "codemirror_mode": {
    "name": "ipython",
    "version": 3
   },
   "file_extension": ".py",
   "mimetype": "text/x-python",
   "name": "python",
   "nbconvert_exporter": "python",
   "pygments_lexer": "ipython3",
   "version": "3.11.3"
  }
 },
 "nbformat": 4,
 "nbformat_minor": 5
}
